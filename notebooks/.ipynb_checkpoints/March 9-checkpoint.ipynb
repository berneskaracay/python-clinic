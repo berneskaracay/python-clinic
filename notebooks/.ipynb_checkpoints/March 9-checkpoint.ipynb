{
 "cells": [
  {
   "cell_type": "markdown",
   "metadata": {},
   "source": [
    "## Python Clinic Day 1\n",
    "Topics: \n",
    "1. For loop syntax\n",
    "2. General iteration syntax\n",
    "3. Lambda expressions\n",
    "4. Functions"
   ]
  },
  {
   "cell_type": "markdown",
   "metadata": {},
   "source": [
    "## First.. Get data to test with"
   ]
  },
  {
   "cell_type": "code",
   "execution_count": null,
   "metadata": {},
   "outputs": [],
   "source": [
    "!curl http://archive.ics.uci.edu/ml/machine-learning-databases/iris/iris.data -o ../data/iris.csv"
   ]
  },
  {
   "cell_type": "code",
   "execution_count": null,
   "metadata": {},
   "outputs": [],
   "source": [
    "import csv"
   ]
  },
  {
   "cell_type": "code",
   "execution_count": null,
   "metadata": {},
   "outputs": [],
   "source": [
    "with open('../data/iris.csv') as f:\n",
    "    reader = csv.DictReader(f, fieldnames=['Sepal_length','Sepal_width','Petal_length','Petal_width','Species'])\n",
    "\n",
    "    data = {ind: row for ind, row in enumerate(reader)}"
   ]
  },
  {
   "cell_type": "code",
   "execution_count": null,
   "metadata": {},
   "outputs": [],
   "source": [
    "data"
   ]
  },
  {
   "cell_type": "markdown",
   "metadata": {},
   "source": [
    "## Next.. For loops!! What is [\\_\\_iter\\_\\_](https://www.programiz.com/python-programming/iterator)?"
   ]
  },
  {
   "cell_type": "code",
   "execution_count": null,
   "metadata": {},
   "outputs": [],
   "source": [
    "# Lets get a list!!\n",
    "my_list = list(data.keys())\n",
    "print(my_list)"
   ]
  },
  {
   "cell_type": "code",
   "execution_count": null,
   "metadata": {},
   "outputs": [],
   "source": [
    "# now lets convert it to an iterator using iter()\n",
    "my_iterator = iter(my_list)"
   ]
  },
  {
   "cell_type": "code",
   "execution_count": null,
   "metadata": {},
   "outputs": [],
   "source": [
    "# You can get values from your iterator using next(iterator)\n",
    "# It will always return the first value from your iterator\n",
    "next(my_iterator) "
   ]
  },
  {
   "cell_type": "code",
   "execution_count": null,
   "metadata": {},
   "outputs": [],
   "source": [
    "# Caveat about this!!! When calling next() on an iterator, it uses up the value,\n",
    "# so it is no longer available.\n",
    "next(my_iterator)"
   ]
  },
  {
   "cell_type": "code",
   "execution_count": null,
   "metadata": {},
   "outputs": [],
   "source": [
    "# 0 is no longer the first value, but 1 was. \n",
    "# Now what is the next value?\n",
    "next(my_iterator)"
   ]
  },
  {
   "cell_type": "markdown",
   "metadata": {},
   "source": [
    "### Now.. Let's introduce the for loop!!\n",
    "I doubt you will always want to say next() on your iterator, it isn't very often that you only want one value in a list, but all of them. "
   ]
  },
  {
   "cell_type": "code",
   "execution_count": null,
   "metadata": {},
   "outputs": [],
   "source": [
    "my_iterator = iter(my_list)\n",
    "\n",
    "# let's cycle through all of the values in my_iterator\n",
    "for ind_value in my_iterator:\n",
    "    print(ind_value)"
   ]
  },
  {
   "cell_type": "code",
   "execution_count": null,
   "metadata": {},
   "outputs": [],
   "source": [
    "# now that we have cycled through the iterator.. There are no more values!\n",
    "next(my_iterator)"
   ]
  },
  {
   "cell_type": "code",
   "execution_count": null,
   "metadata": {},
   "outputs": [],
   "source": [
    "# With this in mind.. What is actually happening behind the scenes when you are writing a for loop?\n",
    "my_iterator = iter(my_list)\n",
    "\n",
    "# This means, keep going until something breaks out\n",
    "while True:\n",
    "    try:\n",
    "        # just like before\n",
    "        print(next(my_iterator))\n",
    "        \n",
    "    # this is triggered when there is no more data in the iterator!\n",
    "    except StopIteration:\n",
    "        print('done with the loop! No more values.')\n",
    "        break"
   ]
  },
  {
   "cell_type": "markdown",
   "metadata": {},
   "source": [
    "## So that is what is basically happening behind the scenes for iterator types\n",
    "* What is the syntax for iterating over lists?\n",
    "* What is the syntax for iterating over dictionaries?\n",
    "* What is the syntax for iterating over generators?"
   ]
  },
  {
   "cell_type": "markdown",
   "metadata": {},
   "source": [
    "### Lists"
   ]
  },
  {
   "cell_type": "code",
   "execution_count": null,
   "metadata": {},
   "outputs": [],
   "source": [
    "my_list = list(data.values())\n",
    "type(my_list)"
   ]
  },
  {
   "cell_type": "code",
   "execution_count": null,
   "metadata": {},
   "outputs": [],
   "source": [
    "# note that this does not \"spend\" the value. \n",
    "# my_list will still have all of these values after the for loop\n",
    "\n",
    "# my_list gives you one value at a time\n",
    "for value in my_list:\n",
    "    print(value)\n",
    "    \n",
    "print(f'\\nI am still here.. And I have {len(my_list)} values.')"
   ]
  },
  {
   "cell_type": "markdown",
   "metadata": {},
   "source": [
    "### Dictionaries"
   ]
  },
  {
   "cell_type": "code",
   "execution_count": null,
   "metadata": {},
   "outputs": [],
   "source": [
    "type(data)"
   ]
  },
  {
   "cell_type": "code",
   "execution_count": null,
   "metadata": {},
   "outputs": [],
   "source": [
    "# note that this does not \"spend\" the value. \n",
    "# data will still have all of these values after the for loop\n",
    "\n",
    "# iterating over data will give you the KEYS\n",
    "for key in data:\n",
    "    print(key)"
   ]
  },
  {
   "cell_type": "code",
   "execution_count": null,
   "metadata": {},
   "outputs": [],
   "source": [
    "# you can do this explicitly by saying.. data.keys()\n",
    "for key in data.keys():\n",
    "    print(key)"
   ]
  },
  {
   "cell_type": "code",
   "execution_count": null,
   "metadata": {},
   "outputs": [],
   "source": [
    "# if you want the values, you can say.. data.values()\n",
    "for value in data.values():\n",
    "    print(value)"
   ]
  },
  {
   "cell_type": "code",
   "execution_count": null,
   "metadata": {},
   "outputs": [],
   "source": [
    "# if you want them both, you can use .items()\n",
    "for key, value in data.items():\n",
    "    print(key)\n",
    "    print(value)"
   ]
  },
  {
   "cell_type": "markdown",
   "metadata": {},
   "source": [
    "### Generators"
   ]
  },
  {
   "cell_type": "code",
   "execution_count": null,
   "metadata": {},
   "outputs": [],
   "source": [
    "# dont look into this too much (unless you really want to!)\n",
    "def my_generator(my_list):\n",
    "    for value in my_list:\n",
    "        yield value"
   ]
  },
  {
   "cell_type": "code",
   "execution_count": null,
   "metadata": {},
   "outputs": [],
   "source": [
    "data_generator = my_generator(data.values())"
   ]
  },
  {
   "cell_type": "code",
   "execution_count": null,
   "metadata": {},
   "outputs": [],
   "source": [
    "# iterating through a generator is very similar to iterating through an iterator!\n",
    "# you can call next()\n",
    "# in a for loop, it will give you one value at a time until they are all used up.\n",
    "next(data_generator)"
   ]
  },
  {
   "cell_type": "code",
   "execution_count": null,
   "metadata": {},
   "outputs": [],
   "source": [
    "for value in data_generator:\n",
    "    print(value)"
   ]
  },
  {
   "cell_type": "code",
   "execution_count": null,
   "metadata": {},
   "outputs": [],
   "source": [
    "# just like an iterator!\n",
    "next(data_generator)"
   ]
  },
  {
   "cell_type": "markdown",
   "metadata": {},
   "source": [
    "<hr>"
   ]
  },
  {
   "cell_type": "markdown",
   "metadata": {},
   "source": [
    "## Functions!"
   ]
  },
  {
   "cell_type": "markdown",
   "metadata": {},
   "source": [
    "Basic function syntax looks like this.. \n",
    "```python\n",
    "\n",
    "def function_name(arg1, arg2, kwarg=1):\n",
    "    # do something here if you want\n",
    "    return (arg1 + arg2) * kwarg\n",
    "```"
   ]
  },
  {
   "cell_type": "markdown",
   "metadata": {},
   "source": [
    "Lets break this down!\n",
    "* `def`\n",
    "    * Specifies that we are creating a new function\n",
    "* `function_name`\n",
    "    * Completely arbitrary. It is best practice to name is something useful so that you get a general idea of what it will do without looking into it too much.\n",
    "    * Python standard is [snake_case](https://www.python.org/dev/peps/pep-0008/#naming-conventions#function-and-variable-names) for function names!\n",
    "* `(arg1, arg2, kwarg=1):`\n",
    "    * variables that will be used in the function\n",
    "    * specifies how the function needs to be called by requiring arguments (args)\n",
    "    * able to have optional arguments (kwargs)\n",
    "    * remember the colon!\n",
    "* `return (optional)`\n",
    "    * how the function ends\n",
    "    * you can return without anything, or specify an object (or multiple objects) to return"
   ]
  },
  {
   "cell_type": "code",
   "execution_count": null,
   "metadata": {},
   "outputs": [],
   "source": [
    "# now lets create one!\n",
    "def add_two(arg1, arg2):\n",
    "    return arg1 + arg2\n",
    "\n",
    "add_two(1, 2)"
   ]
  },
  {
   "cell_type": "code",
   "execution_count": null,
   "metadata": {},
   "outputs": [],
   "source": [
    "# now lets create one without returning anything!\n",
    "def print_them(arg1, arg2):\n",
    "    print(arg1, arg2)\n",
    "    return\n",
    "\n",
    "print_them(1, 2)"
   ]
  },
  {
   "cell_type": "code",
   "execution_count": null,
   "metadata": {},
   "outputs": [],
   "source": [
    "# let's add some optional kwargs!\n",
    "def print_them(arg1, arg2, multiply_by=1):\n",
    "    print(arg1 * multiply_by, arg2 * multiply_by)\n",
    "    return\n",
    "\n",
    "print_them(1, 2)"
   ]
  },
  {
   "cell_type": "code",
   "execution_count": null,
   "metadata": {},
   "outputs": [],
   "source": [
    "print_them(1, 2, multiply_by=2)"
   ]
  },
  {
   "cell_type": "code",
   "execution_count": null,
   "metadata": {},
   "outputs": [],
   "source": [
    "# remember.. args are required, kwargs are optional\n",
    "print_them()"
   ]
  },
  {
   "cell_type": "markdown",
   "metadata": {},
   "source": [
    "## Lambda"
   ]
  },
  {
   "cell_type": "markdown",
   "metadata": {},
   "source": [
    "Lambda expressions are \"nameless\" or \"anonymous\" functions.\n",
    "You can think of the lambda expression model as.. \n",
    "Do one thing, and do it well.\n",
    "Best used with some sort of `apply` function like `map`, `filter`, or `reduce`\n",
    "\n",
    "Example:\n",
    "```python\n",
    "lambda arg1: arg1 + 1\n",
    "```\n",
    "\n",
    "Lets break this down!\n",
    "* `lambda`\n",
    "    * Specifies that we are creating a new lambda expression\n",
    "* `arg1:`\n",
    "    * variables that are used in the lambda expression.\n",
    "    * Equivalant to `(arg1, arg2):` from a function definition\n",
    "* `arg1 + 1`\n",
    "    * what is returned\n",
    "    * doesnt need the `return` keyword\n",
    "\n",
    "* cant do multiple lines"
   ]
  },
  {
   "cell_type": "code",
   "execution_count": null,
   "metadata": {},
   "outputs": [],
   "source": [
    "# we can use a lambda expression to just pull out the sepal width values\n",
    "list(map(lambda val: val['Sepal_width'], data.values()))"
   ]
  },
  {
   "cell_type": "code",
   "execution_count": null,
   "metadata": {},
   "outputs": [],
   "source": [
    "# or, you can use it in combination with a function!!\n",
    "def get_column(column_name):\n",
    "    return lambda val: val[column_name]\n",
    "\n",
    "get_sepal_width = get_column('Sepal_width')\n",
    "get_sepal_length = get_column('Sepal_length')"
   ]
  },
  {
   "cell_type": "code",
   "execution_count": null,
   "metadata": {},
   "outputs": [],
   "source": [
    "list(map(get_sepal_width, data.values()))"
   ]
  },
  {
   "cell_type": "code",
   "execution_count": null,
   "metadata": {},
   "outputs": [],
   "source": [
    "list(map(get_sepal_length, data.values()))"
   ]
  },
  {
   "cell_type": "markdown",
   "metadata": {},
   "source": [
    "<hr>"
   ]
  },
  {
   "cell_type": "markdown",
   "metadata": {},
   "source": [
    "## Your turn"
   ]
  },
  {
   "cell_type": "code",
   "execution_count": null,
   "metadata": {},
   "outputs": [],
   "source": []
  }
 ],
 "metadata": {
  "kernelspec": {
   "display_name": "Python 3",
   "language": "python",
   "name": "python3"
  },
  "language_info": {
   "codemirror_mode": {
    "name": "ipython",
    "version": 3
   },
   "file_extension": ".py",
   "mimetype": "text/x-python",
   "name": "python",
   "nbconvert_exporter": "python",
   "pygments_lexer": "ipython3",
   "version": "3.7.2"
  }
 },
 "nbformat": 4,
 "nbformat_minor": 2
}
