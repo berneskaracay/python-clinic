{
 "cells": [
  {
   "cell_type": "code",
   "execution_count": null,
   "metadata": {},
   "outputs": [],
   "source": [
    "import pandas as pd \n",
    "import pickle\n",
    "\n",
    "import matplotlib.pyplot as plt\n",
    "%matplotlib inline"
   ]
  },
  {
   "cell_type": "code",
   "execution_count": null,
   "metadata": {},
   "outputs": [],
   "source": [
    "data = pd.read_pickle('./../data/imdb_messy.pkl')\n",
    "data.head()"
   ]
  },
  {
   "cell_type": "markdown",
   "metadata": {},
   "source": [
    "### Working with text data!! Pandas edition. \n",
    "This dataset is a nightmare. \n",
    "Well.. Originally it wasn't a nightmare.\n",
    "But a crazy data analyst definitely tampereed with it.. \n",
    "And since we dont version control our data, we need to get it back into pristine condition!!\n",
    "This can be done with pandas, and the help of a guardian angel."
   ]
  },
  {
   "cell_type": "markdown",
   "metadata": {},
   "source": [
    "Step 1!! Let's see what we're dealing with."
   ]
  },
  {
   "cell_type": "code",
   "execution_count": null,
   "metadata": {},
   "outputs": [],
   "source": [
    "data.star_rating.unique()"
   ]
  },
  {
   "cell_type": "code",
   "execution_count": null,
   "metadata": {},
   "outputs": [],
   "source": [
    "data.title.unique()"
   ]
  },
  {
   "cell_type": "code",
   "execution_count": null,
   "metadata": {},
   "outputs": [],
   "source": [
    "data.content_rating.unique()"
   ]
  },
  {
   "cell_type": "code",
   "execution_count": null,
   "metadata": {},
   "outputs": [],
   "source": [
    "data.genre.unique()"
   ]
  },
  {
   "cell_type": "code",
   "execution_count": null,
   "metadata": {},
   "outputs": [],
   "source": [
    "data.duration.unique()[:20]"
   ]
  },
  {
   "cell_type": "code",
   "execution_count": null,
   "metadata": {},
   "outputs": [],
   "source": [
    "data.actors_list.unique()[:20]"
   ]
  },
  {
   "cell_type": "markdown",
   "metadata": {},
   "source": [
    "Messier than we had even imagined!!\n",
    "This will be so much fun!"
   ]
  },
  {
   "cell_type": "markdown",
   "metadata": {},
   "source": [
    "### Stripping with pandas!!\n",
    "First.. Normal python!"
   ]
  },
  {
   "cell_type": "code",
   "execution_count": null,
   "metadata": {},
   "outputs": [],
   "source": [
    "test_string = '    123'\n",
    "test_string.strip()"
   ]
  },
  {
   "cell_type": "markdown",
   "metadata": {},
   "source": [
    "Notice how the extra whitespace is gone. \n",
    "We want to do the same for most of these columns."
   ]
  },
  {
   "cell_type": "code",
   "execution_count": null,
   "metadata": {},
   "outputs": [],
   "source": [
    "data.star_rating.str.strip().unique()"
   ]
  },
  {
   "cell_type": "markdown",
   "metadata": {},
   "source": [
    "### Special note!!\n",
    "When dealing with text data in pandas..\n",
    "Usually you will need to approach it with the str pattern.\n",
    "\n",
    "```python\n",
    "df.<column>.str.<function>(*args, **kwargs)\n",
    "```\n",
    "\n",
    "Pay close attention to the `.str.<function>` syntax..\n",
    "It will come up often!"
   ]
  },
  {
   "cell_type": "code",
   "execution_count": null,
   "metadata": {},
   "outputs": [],
   "source": [
    "data.columns"
   ]
  },
  {
   "cell_type": "code",
   "execution_count": null,
   "metadata": {},
   "outputs": [],
   "source": [
    "\"\"\"Use `data.<column>.str.strip()` to strip out the extra whitespace from the following columns:\n",
    "\n",
    "star_rating\n",
    "title\n",
    "content_rating\n",
    "genre\n",
    "duration\n",
    "\"\"\"\n",
    "# TODO: PUT THIS BACK TO EMPTY\n",
    "data.content_rating = data.content_rating.str.strip()\n",
    "pass"
   ]
  },
  {
   "cell_type": "markdown",
   "metadata": {},
   "source": [
    "Great! What else can we do to clean up the remaining columns?"
   ]
  },
  {
   "cell_type": "code",
   "execution_count": null,
   "metadata": {},
   "outputs": [],
   "source": [
    "data.content_rating.unique()"
   ]
  },
  {
   "cell_type": "markdown",
   "metadata": {},
   "source": [
    "We see some serious issues with some of the rating categories. \n",
    "1. PG -- GP\n",
    "2. nan vs 'not rated' vs 'UNRATED'\n",
    "3. PG 13 vs PG-13\n",
    "\n",
    "Luckily.. Pandas comes with a handy `.str.replace` function.\n",
    "Additionally.. we should fill nas with `unrated`"
   ]
  },
  {
   "cell_type": "code",
   "execution_count": null,
   "metadata": {},
   "outputs": [],
   "source": [
    "\"\"\"Next steps!!\n",
    "\n",
    "using.. \n",
    ".str.lower\n",
    ".str.replace\n",
    ".fillna\n",
    "\n",
    "1. Lowercase the column\n",
    "2. replace not rated with unrated\n",
    "3. fill nans with unrated\n",
    "4. fix the pg issue\n",
    "5. and fix the pg-13 issue\n",
    "\"\"\"\n",
    "pass"
   ]
  },
  {
   "cell_type": "markdown",
   "metadata": {},
   "source": [
    "Next, let's focus on the genre column. \n",
    "Some of the rows look like they have multiple genres.. \n",
    "We can use `.str.extract` to look for a particular pattern and pull it out of the text."
   ]
  },
  {
   "cell_type": "code",
   "execution_count": null,
   "metadata": {},
   "outputs": [],
   "source": [
    "\"\"\"Steps!\n",
    "\n",
    "1. strip it!\n",
    "2. lowercase it!\n",
    "2. replace all the crazy faces with their appropriate letter\n",
    "3. fix drema / drama\n",
    "4. and let's just pull out the first genre available\n",
    "\"\"\"\n",
    "pass"
   ]
  },
  {
   "cell_type": "markdown",
   "metadata": {},
   "source": [
    "And then there is the actors list.. \n",
    "This one is really crazy!\n",
    "Let's use our newly-found regex knowledge to replace all the craziness in this column.."
   ]
  },
  {
   "cell_type": "code",
   "execution_count": null,
   "metadata": {},
   "outputs": [],
   "source": [
    "\"\"\"This will just be for extra credit.. \n",
    "\n",
    "Come up with your own steps!\n",
    "\"\"\"\n",
    "pass"
   ]
  },
  {
   "cell_type": "code",
   "execution_count": null,
   "metadata": {},
   "outputs": [],
   "source": [
    "# given that your data is formatted correctly.. this should then work! With a nice / clean actors list!\n",
    "data = data.join(data.actors_list.str.split(',', expand=True))\\\n",
    "    .melt(id_vars=data.columns, value_vars=[0, 1, 2], value_name='actor')\\\n",
    "    .drop(columns=['variable', 'actors_list'])"
   ]
  },
  {
   "cell_type": "code",
   "execution_count": null,
   "metadata": {},
   "outputs": [],
   "source": [
    "data"
   ]
  },
  {
   "cell_type": "markdown",
   "metadata": {},
   "source": [
    "## Further practice"
   ]
  },
  {
   "cell_type": "markdown",
   "metadata": {},
   "source": [
    "### Overall Goals\n",
    "_For an actor.._\n",
    "* Create a new column for first name and last name\n",
    "* How many movies have they been in?\n",
    "* What is the most frequent *content_rating* they appear?\n",
    "* Each genre should be transformed to a new column with the count of times the actor has appeared in a movie for that genre. \n",
    "* What is the average *star_rating* for the actor by genre? this should be an additional column right niext to it's relative genre-specific column from previous requirement.\n",
    "* Combine movies within a series to be considered as one show, and each actor that plays for a specific movie in one of these series should only be counted for one movie (the group). Take an average of the content rating. \n"
   ]
  },
  {
   "cell_type": "code",
   "execution_count": null,
   "metadata": {},
   "outputs": [],
   "source": []
  }
 ],
 "metadata": {
  "kernelspec": {
   "display_name": "Python 3",
   "language": "python",
   "name": "python3"
  },
  "language_info": {
   "codemirror_mode": {
    "name": "ipython",
    "version": 3
   },
   "file_extension": ".py",
   "mimetype": "text/x-python",
   "name": "python",
   "nbconvert_exporter": "python",
   "pygments_lexer": "ipython3",
   "version": "3.7.2"
  },
  "varInspector": {
   "cols": {
    "lenName": 16,
    "lenType": 16,
    "lenVar": 40
   },
   "kernels_config": {
    "python": {
     "delete_cmd_postfix": "",
     "delete_cmd_prefix": "del ",
     "library": "var_list.py",
     "varRefreshCmd": "print(var_dic_list())"
    },
    "r": {
     "delete_cmd_postfix": ") ",
     "delete_cmd_prefix": "rm(",
     "library": "var_list.r",
     "varRefreshCmd": "cat(var_dic_list()) "
    }
   },
   "oldHeight": 297.79999999999995,
   "position": {
    "height": "319.4px",
    "left": "695px",
    "right": "20px",
    "top": "77px",
    "width": "599.4px"
   },
   "types_to_exclude": [
    "module",
    "function",
    "builtin_function_or_method",
    "instance",
    "_Feature"
   ],
   "varInspector_section_display": "block",
   "window_display": false
  }
 },
 "nbformat": 4,
 "nbformat_minor": 2
}
